{
 "cells": [
  {
   "cell_type": "code",
   "execution_count": null,
   "metadata": {},
   "outputs": [],
   "source": [
    "import fastai\n",
    "from fastai import *\n",
    "from fastai.vision.core import *\n",
    "from fastai.vision.data import *\n",
    "from fastai.vision.learner import *\n",
    "import matplotlib.pyplot as plt\n",
    "import torch.nn.functional as F"
   ]
  },
  {
   "cell_type": "code",
   "execution_count": null,
   "metadata": {},
   "outputs": [],
   "source": [
    "fastbook.setup_book()"
   ]
  },
  {
   "cell_type": "code",
   "execution_count": null,
   "metadata": {},
   "outputs": [],
   "source": [
    "path = untar_data(URLs.PETS)/'images'"
   ]
  },
  {
   "cell_type": "code",
   "execution_count": null,
   "metadata": {},
   "outputs": [],
   "source": [
    "def is_cat(x): return x[0].isupper()"
   ]
  },
  {
   "cell_type": "code",
   "execution_count": null,
   "metadata": {},
   "outputs": [],
   "source": [
    "dls = ImageDataLoaders.from_name_func(path, get_image_files(path), valid_pct=0.2, seed=21,\n",
    "                                     label_func=is_cat, item_tfms=Resize(224))"
   ]
  },
  {
   "cell_type": "code",
   "execution_count": null,
   "metadata": {},
   "outputs": [],
   "source": [
    "learn = vision_learner(dls, resnet34, metrics=error_rate)"
   ]
  },
  {
   "cell_type": "code",
   "execution_count": null,
   "metadata": {},
   "outputs": [],
   "source": [
    "learn.fine_tune(1)"
   ]
  },
  {
   "cell_type": "code",
   "execution_count": null,
   "metadata": {},
   "outputs": [],
   "source": [
    "img = PILImage.create(image_cat())\n",
    "x, = first(dls.test_dl([img]))"
   ]
  },
  {
   "cell_type": "code",
   "execution_count": null,
   "metadata": {},
   "outputs": [],
   "source": [
    "class Hook:\n",
    "   def __init__(self, module):\n",
    "       self.hook = module.register_forward_hook(self.hook_fn)\n",
    "   \n",
    "   def hook_fn(self, module, input, output):\n",
    "       self.output = output.detach().clone()\n",
    "   \n",
    "   def __enter__(self):\n",
    "       return self\n",
    "   \n",
    "   def __exit__(self, *args):\n",
    "       self.hook.remove()"
   ]
  },
  {
   "cell_type": "code",
   "execution_count": null,
   "metadata": {},
   "outputs": [],
   "source": [
    "hook = Hook(learn.model[0])\n",
    "with torch.no_grad():\n",
    "   output = learn.model.eval()(x)"
   ]
  },
  {
   "cell_type": "code",
   "execution_count": null,
   "metadata": {},
   "outputs": [],
   "source": [
    "act = hook.output[0]\n",
    "hook.__exit__()"
   ]
  },
  {
   "cell_type": "code",
   "execution_count": null,
   "metadata": {},
   "outputs": [],
   "source": [
    "print(F.softmax(output, dim=-1))\n",
    "print(dls.vocab)"
   ]
  },
  {
   "cell_type": "code",
   "execution_count": null,
   "metadata": {},
   "outputs": [],
   "source": [
    "cam_map = torch.einsum('ck,kij->cij', learn.model[1][-1].weight, act)\n",
    "img_dec = dls.train.decode((x,))[0][0]\n",
    "_, ax = plt.subplots()\n",
    "img_dec.show(ctx=ax)\n",
    "ax.imshow(cam_map[1].detach().cpu(), alpha=0.6, extent=(0,224,224,0),\n",
    "         interpolation='bilinear', cmap='magma')\n",
    "plt.show()"
   ]
  },
  {
   "cell_type": "code",
   "execution_count": null,
   "metadata": {},
   "outputs": [],
   "source": [
    "class GradHook:\n",
    "   def __init__(self, module):\n",
    "       self.hook = module.register_backward_hook(self.hook_fn)\n",
    "   \n",
    "   def hook_fn(self, module, grad_input, grad_output):\n",
    "       self.grad_output = grad_output[0].detach().clone()\n",
    "   \n",
    "   def __enter__(self):\n",
    "       return self\n",
    "   \n",
    "   def __exit__(self, *args):\n",
    "       self.hook.remove()"
   ]
  },
  {
   "cell_type": "code",
   "execution_count": null,
   "metadata": {},
   "outputs": [],
   "source": [
    "cls = 1\n",
    "with GradHook(learn.model[0]) as grad_hook:\n",
    "   with Hook(learn.model[0]) as fwd_hook:\n",
    "       output = learn.model.eval()(x.cuda())\n",
    "       act = fwd_hook.output\n",
    "   output[0, cls].backward()\n",
    "   grad = grad_hook.grad_output"
   ]
  },
  {
   "cell_type": "code",
   "execution_count": null,
   "metadata": {},
   "outputs": [],
   "source": [
    "w = grad.mean(dim=[1, 2], keepdim=True)\n",
    "cam_map = (w * act).sum(0)"
   ]
  },
  {
   "cell_type": "code",
   "execution_count": null,
   "metadata": {},
   "outputs": [],
   "source": [
    "_, ax = plt.subplots()\n",
    "img_dec.show(ctx=ax)\n",
    "ax.imshow(cam_map.detach().cpu(), alpha=0.6, extent=(0,224,224,0),\n",
    "         interpolation='bilinear', cmap='magma')\n",
    "plt.show()"
   ]
  },
  {
   "cell_type": "code",
   "execution_count": null,
   "metadata": {},
   "outputs": [],
   "source": [
    "with GradHook(learn.model[0][-2]) as grad_hook:\n",
    "   with Hook(learn.model[0][-2]) as fwd_hook:\n",
    "       output = learn.model.eval()(x.cuda())\n",
    "       act = fwd_hook.output\n",
    "   output[0, cls].backward()\n",
    "   grad = grad_hook.grad_output"
   ]
  },
  {
   "cell_type": "code",
   "execution_count": null,
   "metadata": {},
   "outputs": [],
   "source": [
    "w = grad.mean(dim=[1, 2], keepdim=True)\n",
    "cam_map = (w * act).sum(0)"
   ]
  },
  {
   "cell_type": "code",
   "execution_count": null,
   "metadata": {},
   "outputs": [],
   "source": [
    "_, ax = plt.subplots()\n",
    "img_dec.show(ctx=ax)\n",
    "ax.imshow(cam_map.detach().cpu(), alpha=0.6, extent=(0,224,224,0),\n",
    "         interpolation='bilinear', cmap='magma')\n",
    "plt.show()\n"
   ]
  }
 ],
 "metadata": {
  "language_info": {
   "name": "python"
  }
 },
 "nbformat": 4,
 "nbformat_minor": 2
}
